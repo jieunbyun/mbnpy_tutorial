{
 "cells": [
  {
   "cell_type": "markdown",
   "id": "856a5c2a",
   "metadata": {},
   "source": [
    "# Priming for use in CoLab"
   ]
  },
  {
   "cell_type": "code",
   "execution_count": null,
   "id": "9558f8bb",
   "metadata": {},
   "outputs": [],
   "source": [
    "!git clone https://github.com/jieunbyun/mbnpy_tutorial.git\n",
    "\n",
    "import sys\n",
    "sys.path.append('/content/mbnpy_tutorial')\n",
    "\n",
    "!pip install mbnpy==0.1.9"
   ]
  },
  {
   "cell_type": "code",
   "execution_count": null,
   "id": "8bcaeaf2",
   "metadata": {},
   "outputs": [],
   "source": [
    "from mbnpy import brc, cpm, variable, inference, branch\n",
    "import numpy as np\n",
    "import pandas as pd\n",
    "from scipy.stats import norm\n",
    "import math\n",
    "import json\n",
    "import matplotlib.pyplot as plt\n",
    "%matplotlib inline"
   ]
  },
  {
   "cell_type": "markdown",
   "id": "2f7fe501",
   "metadata": {},
   "source": [
    "# Load data"
   ]
  },
  {
   "cell_type": "code",
   "execution_count": null,
   "id": "68d836ee",
   "metadata": {},
   "outputs": [],
   "source": [
    "df_schools = pd.read_excel(r\"mbnpy_tutorial/data/Schools_Buildings_Fragility_Data_selected.xlsx\")\n",
    "df_schools = df_schools[df_schools['Function']=='Classroom'] # select only classrooms"
   ]
  },
  {
   "cell_type": "code",
   "execution_count": 21,
   "id": "dff1c770",
   "metadata": {},
   "outputs": [
    {
     "name": "stdout",
     "output_type": "stream",
     "text": [
      "                           School Build code   Function  No. of Classrooms  \\\n",
      "0        East City Central School      EAS01  Classroom                 24   \n",
      "1        East City Central School      EAS02  Classroom                 22   \n",
      "3        East City Central School      EAS04  Classroom                 16   \n",
      "4        East City Central School      EAS05  Classroom                 10   \n",
      "5        East City Central School      EAS06  Classroom                  8   \n",
      "7        East City Central School      EAS10  Classroom                  9   \n",
      "8        East City Central School      EAS11  Classroom                  4   \n",
      "9        East City Central School      EAS12  Classroom                  3   \n",
      "10       East City Central School      EAS13  Classroom                  2   \n",
      "11       East City Central School      EAS14  Classroom                  2   \n",
      "12       East City Central School      EAS15  Classroom                  2   \n",
      "13  Consolacion Elementary School      CON02  Classroom                  2   \n",
      "14  Consolacion Elementary School      CON03  Classroom                  2   \n",
      "15  Consolacion Elementary School      CON04  Classroom                  2   \n",
      "16  Consolacion Elementary School      CON05  Classroom                  5   \n",
      "18  Consolacion Elementary School      CON07  Classroom                  4   \n",
      "19  Consolacion Elementary School      CON08  Classroom                  2   \n",
      "20  Consolacion Elementary School      CON09  Classroom                  3   \n",
      "21  Consolacion Elementary School      CON10  Classroom                  3   \n",
      "23  Consolacion Elementary School      CON12  Classroom                  8   \n",
      "\n",
      "                              GLOSI code GLOSI code- first 3 parameters  \\\n",
      "0   RC2/HR/MD/RD/HI/SS/RO/RF/NP/OS/GC/NN                      RC2/HR/MD   \n",
      "1   RC2/MR/LD/RD/VI/LS/RO/RF/NP/OS/GC/VN                      RC2/MR/LD   \n",
      "3   RC2/MR/LD/RD/HV/LS/RO/RF/NP/OS/GC/NN                      RC2/MR/LD   \n",
      "4   RC2/MR/MD/RD/VI/LS/RO/RF/NP/OS/GC/NN                      RC2/MR/MD   \n",
      "5   RC2/LR/PD/FD/NI/LS/RO/RF/NP/OS/GC/VN                      RC2/LR/PD   \n",
      "7    CM/LR/PD/FD/NI/LP/LO/RF/PR/OS/PC/NN                       CM/LR/PD   \n",
      "8   RC2/MR/MD/RD/VI/LS/RO/RF/NP/OS/GC/NN                      RC2/MR/MD   \n",
      "9   RC2/LR/PD/FD/NI/SS/RO/RF/NP/OS/GC/VN                      RC2/LR/PD   \n",
      "10  RC2/LR/MD/FD/NI/SS/RO/RF/NP/OS/GC/VN                      RC2/LR/MD   \n",
      "11  SF2/LR/MD/FD/NI/LS/RO/RF/NP/OS/GC/VN                      SF2/LR/MD   \n",
      "12  RC2/LR/PD/FD/NI/LS/RO/RF/NP/OS/GC/VN                      RC2/LR/PD   \n",
      "13  RC2/MR/LD/RD/VI/LS/RO/RF/NP/OS/GC/VN                      RC2/MR/LD   \n",
      "14  RC2/LR/LD/FD/NI/LS/RO/RF/NP/OS/GC/VN                      RC2/LR/LD   \n",
      "15  RC2/LR/LD/FD/NI/LS/RO/RF/NP/OS/GC/VN                      RC2/LR/LD   \n",
      "16  RC2/LR/PD/FD/NI/LP/LO/RF/NP/RS/GC/VN                      RC2/LR/PD   \n",
      "18  RM1/LR/PD/FD/NI/LP/LO/RF/NP/OS/GC/NN                      RM1/LR/PD   \n",
      "19   CX/LR/MD/FD/NI/LP/SO/RF/NP/OS/GC/NN                       CX/LR/MD   \n",
      "20  RC2/LR/LD/FD/NI/LS/RO/RF/NP/OS/GC/VN                      RC2/LR/LD   \n",
      "21   CM/LR/PD/FD/NI/LP/SO/RF/NP/RS/GC/NN                       CM/LR/PD   \n",
      "23  RC2/MR/MD/RD/NI/LS/SW/RF/NP/OS/PC/NN                      RC2/MR/MD   \n",
      "\n",
      "        mean       std  \n",
      "0   0.764607  0.276836  \n",
      "1   1.152667  0.302997  \n",
      "3   1.152667  0.302997  \n",
      "4   1.383200  0.302997  \n",
      "5   1.067485  0.275982  \n",
      "7   0.849689  0.303634  \n",
      "8   1.383200  0.302997  \n",
      "9   1.067485  0.275982  \n",
      "10  1.560711  0.269233  \n",
      "11  0.564000  0.360000  \n",
      "12  1.067485  0.275982  \n",
      "13  1.152667  0.302997  \n",
      "14  1.300592  0.269233  \n",
      "15  1.300592  0.269233  \n",
      "16  1.067485  0.275982  \n",
      "18  0.521758  0.396797  \n",
      "19  1.699378  0.303634  \n",
      "20  1.300592  0.269233  \n",
      "21  0.849689  0.303634  \n",
      "23  1.383200  0.302997  \n"
     ]
    }
   ],
   "source": [
    "print(df_schools)"
   ]
  },
  {
   "cell_type": "code",
   "execution_count": 22,
   "id": "d5eb3b85",
   "metadata": {},
   "outputs": [
    {
     "name": "stdout",
     "output_type": "stream",
     "text": [
      "Building codes (=component names):\n",
      "East City Central School: ['EAS01', 'EAS02', 'EAS04', 'EAS05', 'EAS06', 'EAS10', 'EAS11', 'EAS12', 'EAS13', 'EAS14', 'EAS15']\n",
      "Consolacion Elementary School: ['CON02', 'CON03', 'CON04', 'CON05', 'CON07', 'CON08', 'CON09', 'CON10', 'CON12']\n"
     ]
    }
   ],
   "source": [
    "school_names = ['East City Central School', 'Consolacion Elementary School']\n",
    "\n",
    "print(f\"Building codes (=component names):\")\n",
    "build_names = {}\n",
    "for sc in school_names:\n",
    "    df_school1 = df_schools[df_schools['School'] == sc]\n",
    "    build_names[sc] = df_school1['Build code'].tolist()\n",
    "    print(f\"{sc}: {build_names[sc]}\")"
   ]
  },
  {
   "cell_type": "code",
   "execution_count": 23,
   "id": "f24c12fd",
   "metadata": {},
   "outputs": [
    {
     "name": "stdout",
     "output_type": "stream",
     "text": [
      "   Build code      mean       std            pf\n",
      "0       EAS01  0.764607  0.276836  9.632398e-03\n",
      "1       EAS02  1.152667  0.302997  2.388121e-04\n",
      "3       EAS04  1.152667  0.302997  2.388121e-04\n",
      "4       EAS05  1.383200  0.302997  2.113317e-05\n",
      "5       EAS06  1.067485  0.275982  1.877448e-04\n",
      "7       EAS10  0.849689  0.303634  6.545247e-03\n",
      "8       EAS11  1.383200  0.302997  2.113317e-05\n",
      "9       EAS12  1.067485  0.275982  1.877448e-04\n",
      "10      EAS13  1.560711  0.269233  2.132807e-07\n",
      "11      EAS14  0.564000  0.360000  1.699366e-01\n",
      "12      EAS15  1.067485  0.275982  1.877448e-04\n",
      "13      CON02  1.152667  0.302997  2.388121e-04\n",
      "14      CON03  1.300592  0.269233  5.947142e-06\n",
      "15      CON04  1.300592  0.269233  5.947142e-06\n",
      "16      CON05  1.067485  0.275982  1.877448e-04\n",
      "18      CON07  0.521758  0.396797  2.515215e-01\n",
      "19      CON08  1.699378  0.303634  9.483184e-07\n",
      "20      CON09  1.300592  0.269233  5.947142e-06\n",
      "21      CON10  0.849689  0.303634  6.545247e-03\n",
      "23      CON12  1.383200  0.302997  2.113317e-05\n"
     ]
    }
   ],
   "source": [
    "pga_g = 0.4 # 2500-year return period\n",
    "\n",
    "df_schools['pf'] = df_schools.apply(lambda row: norm.cdf(math.log(pga_g), math.log(row['mean']), row['std']), axis=1)\n",
    "print(df_schools[['Build code', 'mean', 'std', 'pf']])"
   ]
  },
  {
   "cell_type": "markdown",
   "id": "0f696722",
   "metadata": {},
   "source": [
    "# Build MBN"
   ]
  },
  {
   "cell_type": "code",
   "execution_count": 24,
   "id": "04d2de9a",
   "metadata": {},
   "outputs": [],
   "source": [
    "varis = {}\n",
    "cpms = {}\n",
    "probs = {} # for later use in BRC algorithm\n",
    "for sc in school_names:\n",
    "    df_school1 = df_schools[df_schools['School'] == sc]\n",
    "\n",
    "    varis[sc] = {}\n",
    "    cpms[sc] = {}\n",
    "    probs[sc] = {}\n",
    "    for b in build_names[sc]:\n",
    "        n_class = df_school1[df_school1['Build code'] == b]['No. of Classrooms'].values[0]\n",
    "        n_class = int(n_class)\n",
    "\n",
    "        varis[sc][b] = variable.Variable(name = b, values = [0, n_class]) # State 0 stands for 0 capacity, 1 for full capacity\n",
    "\n",
    "        pf_b = df_school1[df_school1['Build code'] == b]['pf'].values[0]\n",
    "        pf_b = float(pf_b)\n",
    "        probs[sc][b] = {0: pf_b, 1: 1.0-pf_b}\n",
    "        cpms[sc][b] = cpm.Cpm(variables = [varis[sc][b]],\n",
    "                              no_child = 1,\n",
    "                              C = np.array([[0], [1]]),\n",
    "                              p = np.array([pf_b, 1.0-pf_b]))\n",
    "\n",
    "    # system event\n",
    "    varis[sc]['school'] = variable.Variable(name = 'school', values = ['f', 's']) # 0 for failure and 1 for success (it is good practice to set worse states to lower indices)\n",
    "    cpms[sc]['school'] = cpm.Cpm(variables = [varis[sc]['school']] + [varis[sc][b] for b in build_names[sc]],\n",
    "                                 no_child = 1)"
   ]
  },
  {
   "cell_type": "markdown",
   "id": "ef2422dc",
   "metadata": {},
   "source": [
    "# System function"
   ]
  },
  {
   "cell_type": "code",
   "execution_count": 25,
   "id": "ae554bd6",
   "metadata": {},
   "outputs": [],
   "source": [
    "def count_classrooms(comps_st, school_name = 'East City Central School', thresh = 0.7):\n",
    "    \"\"\"\n",
    "    Components are the school buildings\n",
    "    Return 's' if the available number of classrooms is greater than or equal to the threshold * total number of classrooms;\n",
    "    return 'f' otherwise.\n",
    "    \"\"\"\n",
    "\n",
    "    total_rooms = sum(varis[school_name][b].values[1] for b in build_names[school_name])\n",
    "\n",
    "    avail_rooms = 0\n",
    "    for comp, st in comps_st.items():\n",
    "        comp_capa = varis[school_name][comp].values[st]\n",
    "        avail_rooms += comp_capa\n",
    "\n",
    "    if avail_rooms >= total_rooms * thresh:\n",
    "        sys_st = 's'\n",
    "\n",
    "        all_rooms_dict = {comp: varis[school_name][comp].values[1] for comp in build_names[school_name]}\n",
    "        all_rooms_dict = {k: v for k, v in sorted(all_rooms_dict.items(), key=lambda item: item[1], reverse=True)}\n",
    "\n",
    "        min_comps_st = {}\n",
    "        room_count = 0\n",
    "        for k, v in all_rooms_dict.items():\n",
    "            if comps_st[k] == 1:\n",
    "                room_count += v\n",
    "                min_comps_st[k] = 1\n",
    "                if room_count >= total_rooms * thresh:\n",
    "                    break\n",
    "    else:\n",
    "        sys_st = 'f'\n",
    "        min_comps_st = None # it's not straightforward to find the minimal 'failure' conditions\n",
    "    \n",
    "    return avail_rooms, sys_st, min_comps_st\n"
   ]
  },
  {
   "cell_type": "markdown",
   "id": "f990d0b6",
   "metadata": {},
   "source": [
    "Let's test a few examples."
   ]
  },
  {
   "cell_type": "code",
   "execution_count": 26,
   "id": "f8456850",
   "metadata": {},
   "outputs": [
    {
     "name": "stdout",
     "output_type": "stream",
     "text": [
      "Example 1: 102 rooms available, system state: s, minimal components state: {'EAS01': 1, 'EAS02': 1, 'EAS04': 1, 'EAS05': 1}, with capacities {'EAS01': 24, 'EAS02': 22, 'EAS04': 16, 'EAS05': 10}\n",
      "Example 2: 78 rooms available, system state: s, minimal components state: {'EAS02': 1, 'EAS04': 1, 'EAS05': 1, 'EAS10': 1, 'EAS06': 1, 'EAS11': 1, 'EAS12': 1}, with capacities {'EAS02': 22, 'EAS04': 16, 'EAS05': 10, 'EAS10': 9, 'EAS06': 8, 'EAS11': 4, 'EAS12': 3}\n",
      "Example 3: 56 rooms available, system state: f, minimal components state: None\n"
     ]
    }
   ],
   "source": [
    "# Example 1\n",
    "comps_st = {b: 1 for b in build_names['East City Central School']}  # all components are in 'success' state\n",
    "avail_rooms, sys_st, min_comps_st = count_classrooms(comps_st, school_name='East City Central School', thresh=0.7)\n",
    "cap_dict = {k: varis['East City Central School'][k].values[v] for k, v in min_comps_st.items()}\n",
    "print(f\"Example 1: {avail_rooms} rooms available, system state: {sys_st}, minimal components state: {min_comps_st}, with capacities {cap_dict}\")\n",
    "\n",
    "# Example 2\n",
    "comps_st['EAS01'] = 0\n",
    "avail_rooms, sys_st, min_comps_st = count_classrooms(comps_st, school_name='East City Central School', thresh=0.7)\n",
    "cap_dict = {k: varis['East City Central School'][k].values[v] for k, v in min_comps_st.items()}\n",
    "print(f\"Example 2: {avail_rooms} rooms available, system state: {sys_st}, minimal components state: {min_comps_st}, with capacities {cap_dict}\")\n",
    "\n",
    "# Example 3\n",
    "comps_st['EAS02'] = 0\n",
    "avail_rooms, sys_st, min_comps_st = count_classrooms(comps_st, school_name='East City Central School', thresh=0.7)\n",
    "print(f\"Example 3: {avail_rooms} rooms available, system state: {sys_st}, minimal components state: {min_comps_st}\")"
   ]
  },
  {
   "cell_type": "markdown",
   "id": "a359d45e",
   "metadata": {},
   "source": [
    "# System reliability analysis using BRC\n",
    "\n",
    "Now we apply BRC algorithm to quantify P(School | building1, building2, ...)."
   ]
  },
  {
   "cell_type": "code",
   "execution_count": 27,
   "id": "7e8cbd6c",
   "metadata": {},
   "outputs": [
    {
     "name": "stdout",
     "output_type": "stream",
     "text": [
      "[System function runs 10]..\n",
      "The # of found non-dominated rules (f, s): 10 (4, 6)\n",
      "Probability of branchs (f, s, u): (6.9412e-05, 1.00e+00, 5.6393e-06)\n",
      "The # of branches (f, s, u), (min, avg) len of rf: 27 (8, 5, 14), (2, 2.00)\n",
      "Elapsed seconds (average per round): 1.85e-02 (1.85e-03)\n",
      "[System function runs 20]..\n",
      "The # of found non-dominated rules (f, s): 20 (7, 13)\n",
      "Probability of branchs (f, s, u): (7.1218e-05, 1.00e+00, 1.0551e-07)\n",
      "The # of branches (f, s, u), (min, avg) len of rf: 47 (9, 15, 23), (2, 2.00)\n",
      "Elapsed seconds (average per round): 6.67e-02 (3.34e-03)\n",
      "[System function runs 30]..\n",
      "The # of found non-dominated rules (f, s): 30 (11, 19)\n",
      "Probability of branchs (f, s, u): (7.1231e-05, 1.00e+00, 2.1524e-10)\n",
      "The # of branches (f, s, u), (min, avg) len of rf: 70 (19, 24, 27), (2, 2.36)\n",
      "Elapsed seconds (average per round): 1.34e-01 (4.46e-03)\n",
      "[System function runs 40]..\n",
      "The # of found non-dominated rules (f, s): 40 (17, 23)\n",
      "Probability of branchs (f, s, u): (7.1231e-05, 1.00e+00, 1.4156e-11)\n",
      "The # of branches (f, s, u), (min, avg) len of rf: 83 (26, 30, 27), (2, 2.71)\n",
      "Elapsed seconds (average per round): 2.35e-01 (5.89e-03)\n",
      "[System function runs 50]..\n",
      "The # of found non-dominated rules (f, s): 50 (19, 31)\n",
      "Probability of branchs (f, s, u): (7.1231e-05, 1.00e+00, 8.7297e-13)\n",
      "The # of branches (f, s, u), (min, avg) len of rf: 99 (25, 42, 32), (2, 2.74)\n",
      "Elapsed seconds (average per round): 4.23e-01 (8.47e-03)\n",
      "[System function runs 60]..\n",
      "The # of found non-dominated rules (f, s): 60 (24, 36)\n",
      "Probability of branchs (f, s, u): (7.1231e-05, 1.00e+00, 4.5963e-14)\n",
      "The # of branches (f, s, u), (min, avg) len of rf: 110 (32, 47, 31), (2, 3.04)\n",
      "Elapsed seconds (average per round): 5.56e-01 (9.26e-03)\n",
      "[System function runs 70]..\n",
      "The # of found non-dominated rules (f, s): 70 (30, 40)\n",
      "Probability of branchs (f, s, u): (7.1231e-05, 1.00e+00, 3.2196e-15)\n",
      "The # of branches (f, s, u), (min, avg) len of rf: 117 (37, 51, 29), (2, 3.27)\n",
      "Elapsed seconds (average per round): 7.42e-01 (1.06e-02)\n",
      "[System function runs 80]..\n",
      "The # of found non-dominated rules (f, s): 80 (36, 44)\n",
      "Probability of branchs (f, s, u): (7.1231e-05, 1.00e+00, 1.1102e-16)\n",
      "The # of branches (f, s, u), (min, avg) len of rf: 126 (51, 52, 23), (2, 3.42)\n",
      "Elapsed seconds (average per round): 9.59e-01 (1.20e-02)\n",
      "\n",
      "*Final decomposition is completed with 122 branches (originally 125 branches).\n",
      "\n",
      "***Analysis completed with f_sys runs 88: out_flag = pf_bnd***\n",
      "The # of found non-dominated rules (f, s): 88 (43, 45)\n",
      "Probability of branchs (f, s, u): (7.1231e-05, 1.00e+00, -1.1102e-16)\n",
      "The # of branches (f, s, u), (min, avg) len of rf: 122 (49, 56, 17), (2, 3.58)\n",
      "Elapsed seconds (average per round): 1.20e+00 (1.35e-02)\n"
     ]
    }
   ],
   "source": [
    "sc = 'East City Central School'\n",
    "#sc = 'Consolacion Elementary School'\n",
    "\n",
    "sys_fun = lambda comps_st: count_classrooms(comps_st, school_name=sc, thresh=0.7)\n",
    "brs, rules, sys_res, monitor = brc.run(probs[sc], sys_fun)\n",
    "\n",
    "brc.save_brc_data(rules, brs, sys_res, monitor, output_folder = \"brc_data\", fname_prefix=sc)"
   ]
  },
  {
   "cell_type": "markdown",
   "id": "51832d5b",
   "metadata": {},
   "source": [
    "Branches need to be converted to Cmatrix of P(School | building1, building2, ...)."
   ]
  },
  {
   "cell_type": "code",
   "execution_count": 28,
   "id": "ae480e0e",
   "metadata": {},
   "outputs": [],
   "source": [
    "C_sc = branch.get_cmat(brs, {b: varis[sc][b] for b in build_names[sc]})\n",
    "C_sc = C_sc[C_sc[:,0]!=2] # remove miscellenous unknown branches\n",
    "\n",
    "p_sc = np.ones((C_sc.shape[0],1))\n",
    "\n",
    "cpms[sc]['school'].C = C_sc\n",
    "cpms[sc]['school'].p = p_sc"
   ]
  },
  {
   "cell_type": "markdown",
   "id": "c4b41fd0",
   "metadata": {},
   "source": [
    "# Inference"
   ]
  },
  {
   "cell_type": "markdown",
   "id": "c99b91a1",
   "metadata": {},
   "source": [
    "P(School) = sum_{B_1, B_2, ...} P(School | B_1, B_2, ...) P(B_1) P(B_2) ..."
   ]
  },
  {
   "cell_type": "code",
   "execution_count": 29,
   "id": "2fcda21a",
   "metadata": {},
   "outputs": [
    {
     "name": "stdout",
     "output_type": "stream",
     "text": [
      "<CPM representing P(school | ) at 0x225272484a0>\n",
      "+----------+-------------+\n",
      "|   school [ ]           p |\n",
      "+==========+=============+\n",
      "|        1 [ ] 0.999929    |\n",
      "+----------+-------------+\n",
      "|        0 [ ] 7.12313e-05 |\n",
      "+----------+-------------+\n"
     ]
    }
   ],
   "source": [
    "var_elim_order = [b for b in build_names[sc]]\n",
    "\n",
    "Msys = inference.variable_elim(cpms[sc], var_elim_order)\n",
    "print(Msys)"
   ]
  },
  {
   "cell_type": "markdown",
   "id": "a680fd2d",
   "metadata": {},
   "source": [
    "CPIM_n = P(B_n = 0 | School = 0 ) = P(B_n = 0, School = 0) / P(School = 0)"
   ]
  },
  {
   "cell_type": "code",
   "execution_count": 30,
   "id": "8baeb996",
   "metadata": {},
   "outputs": [
    {
     "name": "stdout",
     "output_type": "stream",
     "text": [
      "CPIM for East City Central School:\n",
      "EAS01: 0.9773001019719219\n",
      "EAS02: 0.05498911468430467\n",
      "EAS04: 0.03309141685709643\n",
      "EAS05: 0.0029284191476553097\n",
      "EAS06: 0.025501915579853485\n",
      "EAS10: 0.9068312742555341\n",
      "EAS11: 2.184789132889829e-05\n",
      "EAS12: 0.000189183305078278\n",
      "EAS13: 2.1440769926561663e-07\n",
      "EAS14: 0.17002470576781717\n",
      "EAS15: 0.00018873589027914572\n"
     ]
    }
   ],
   "source": [
    "cpim = {}\n",
    "cpim[sc] = {}\n",
    "\n",
    "P_s0 = Msys.get_prob(['school'], [0])\n",
    "for b in build_names[sc]:\n",
    "    Msys_b = inference.variable_elim(cpms[sc], [b_ for b_ in build_names[sc] if b_ != b])\n",
    "    P_s0_b0 = Msys_b.get_prob(['school', b], [0, 0])\n",
    "\n",
    "    cpim_b = P_s0_b0 / P_s0\n",
    "    cpim[sc][b] = cpim_b\n",
    "\n",
    "print(f\"CPIM for {sc}:\")\n",
    "for b in build_names[sc]:\n",
    "    print(f\"{b}: {cpim[sc][b]}\")"
   ]
  },
  {
   "cell_type": "code",
   "execution_count": 33,
   "id": "10f59646",
   "metadata": {},
   "outputs": [
    {
     "name": "stdout",
     "output_type": "stream",
     "text": [
      "[{0: 0.009632398326182403, 1: 0.9903676016738175}, {0: 0.00023881209453266463, 1: 0.9997611879054673}, {0: 0.00023881209453266463, 1: 0.9997611879054673}, {0: 2.113316655161262e-05, 1: 0.9999788668334484}, {0: 0.00018774475670805654, 1: 0.999812255243292}, {0: 0.006545246844305206, 1: 0.9934547531556948}, {0: 2.113316655161262e-05, 1: 0.9999788668334484}, {0: 0.00018774475670805654, 1: 0.999812255243292}, {0: 2.132807015830755e-07, 1: 0.9999997867192985}, {0: 0.16993659429241254, 1: 0.8300634057075875}, {0: 0.00018774475670805654, 1: 0.999812255243292}]\n"
     ]
    }
   ],
   "source": [
    "print(list(probs[sc].values()))"
   ]
  },
  {
   "cell_type": "code",
   "execution_count": 54,
   "id": "7e799bb4",
   "metadata": {},
   "outputs": [
    {
     "data": {
      "image/png": "[encoded data removed]",
      "text/plain": [
       "<Figure size 640x480 with 3 Axes>"
      ]
     },
     "metadata": {},
     "output_type": "display_data"
    }
   ],
   "source": [
    "import matplotlib.pyplot as plt\n",
    "\n",
    "fig, ax1 = plt.subplots()\n",
    "\n",
    "keys = list(cpim[sc].keys())\n",
    "x = range(len(keys))\n",
    "bar_width = 0.25\n",
    "\n",
    "# First bar (left axis)\n",
    "ax1.bar([i - bar_width for i in x], list(cpim[sc].values()), \n",
    "        width=bar_width, color='darkred', label='CPIM')\n",
    "ax1.set_ylabel('CPIM', color='darkred')\n",
    "ax1.tick_params(axis='y', labelcolor='darkred')\n",
    "ax1.set_xticks(x)\n",
    "ax1.set_xticklabels(keys, rotation=45)\n",
    "ax1.set_xlabel('Building')\n",
    "ax1.grid()\n",
    "\n",
    "# Second bar (right axis)\n",
    "ax2 = ax1.twinx()\n",
    "ax2.bar(x, [pr[0] for pr in probs[sc].values()], \n",
    "        width=bar_width, color='orange', label='Failure Prob')\n",
    "ax2.set_ylabel('Failure Prob.', color='orange')\n",
    "ax2.tick_params(axis='y', labelcolor='orange')\n",
    "\n",
    "# Third bar (new axis, shifted right)\n",
    "ax3 = ax1.twinx()\n",
    "ax3.spines['right'].set_position(('axes', 1.17))  # move third axis further right\n",
    "ax3.bar([i + bar_width for i in x], [varis[sc][b].values[1] for b in build_names[sc]], \n",
    "        width=bar_width, color='darkgoldenrod', label='Third Metric')\n",
    "ax3.set_ylabel('Number of classrooms', color='darkgoldenrod')\n",
    "ax3.tick_params(axis='y', labelcolor='darkgoldenrod')\n",
    "\n",
    "plt.tight_layout()\n",
    "plt.show()\n"
   ]
  },
  {
   "cell_type": "markdown",
   "id": "0be72781",
   "metadata": {},
   "source": [
    "The results above show how component importance is determined by the interplay of failure probability and functional contribution (i.e. number of classrooms)."
   ]
  },
  {
   "cell_type": "markdown",
   "id": "86e9337d",
   "metadata": {},
   "source": [
    "# Take away\n",
    "\n",
    "1. School reliability can be efficiently quantified using MBN and BRC.\n",
    "2. Various probabilistic quantities can be computed."
   ]
  },
  {
   "cell_type": "markdown",
   "id": "16299563",
   "metadata": {},
   "source": [
    "# Future exercises for self study\n",
    "\n",
    "1. Analysis of Consolacion Elementary School\n",
    "    - The same codes above can be used.\n",
    "2. Combination with transport. (solution to be shared.)\n",
    "    - Consider the school-transport network, where there are two bridges that may fail, each with failure probability of 0.07302 and 0.1307. The system failure event of interest is that the school (destination) is not accessible from the city on the other side of river (origin) by either the disconnectivity of the road network or the failure of the school complex. What is the probability of system failure? \n",
    "\n",
    "<p align=\"center\">\n",
    "<img src=\"data/CDO school bridge network.png\" width=\"600\">\n",
    "</p>"
   ]
  }
 ],
 "metadata": {
  "kernelspec": {
   "display_name": "mbnpy",
   "language": "python",
   "name": "python3"
  },
  "language_info": {
   "codemirror_mode": {
    "name": "ipython",
    "version": 3
   },
   "file_extension": ".py",
   "mimetype": "text/x-python",
   "name": "python",
   "nbconvert_exporter": "python",
   "pygments_lexer": "ipython3",
   "version": "3.12.11"
  }
 },
 "nbformat": 4,
 "nbformat_minor": 5
}
