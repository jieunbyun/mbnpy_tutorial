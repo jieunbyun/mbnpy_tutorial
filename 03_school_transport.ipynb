{
 "cells": [
  {
   "cell_type": "code",
   "execution_count": 54,
   "id": "8bcaeaf2",
   "metadata": {},
   "outputs": [],
   "source": [
    "from mbnpy import brc, cpm, variable, inference, branch\n",
    "import numpy as np\n",
    "import pandas as pd\n",
    "from scipy.stats import norm\n",
    "import math\n",
    "import json\n",
    "import matplotlib.pyplot as plt\n",
    "%matplotlib inline\n",
    "\n",
    "import copy\n",
    "import networkx as nx\n"
   ]
  },
  {
   "cell_type": "markdown",
   "id": "2f7fe501",
   "metadata": {},
   "source": [
    "# Load data"
   ]
  },
  {
   "cell_type": "code",
   "execution_count": 55,
   "id": "68d836ee",
   "metadata": {},
   "outputs": [],
   "source": [
    "df_schools = pd.read_excel(r\"data/Schools_Buildings_Fragility_Data_selected.xlsx\")\n",
    "df_schools = df_schools[df_schools['Function']=='Classroom'] # select only classrooms"
   ]
  },
  {
   "cell_type": "code",
   "execution_count": 56,
   "id": "dff1c770",
   "metadata": {},
   "outputs": [
    {
     "name": "stdout",
     "output_type": "stream",
     "text": [
      "                           School Build code   Function  No. of Classrooms  \\\n",
      "0        East City Central School      EAS01  Classroom                 24   \n",
      "1        East City Central School      EAS02  Classroom                 22   \n",
      "3        East City Central School      EAS04  Classroom                 16   \n",
      "4        East City Central School      EAS05  Classroom                 10   \n",
      "5        East City Central School      EAS06  Classroom                  8   \n",
      "7        East City Central School      EAS10  Classroom                  9   \n",
      "8        East City Central School      EAS11  Classroom                  4   \n",
      "9        East City Central School      EAS12  Classroom                  3   \n",
      "10       East City Central School      EAS13  Classroom                  2   \n",
      "11       East City Central School      EAS14  Classroom                  2   \n",
      "12       East City Central School      EAS15  Classroom                  2   \n",
      "13  Consolacion Elementary School      CON02  Classroom                  2   \n",
      "14  Consolacion Elementary School      CON03  Classroom                  2   \n",
      "15  Consolacion Elementary School      CON04  Classroom                  2   \n",
      "16  Consolacion Elementary School      CON05  Classroom                  5   \n",
      "18  Consolacion Elementary School      CON07  Classroom                  4   \n",
      "19  Consolacion Elementary School      CON08  Classroom                  2   \n",
      "20  Consolacion Elementary School      CON09  Classroom                  3   \n",
      "21  Consolacion Elementary School      CON10  Classroom                  3   \n",
      "23  Consolacion Elementary School      CON12  Classroom                  8   \n",
      "\n",
      "                              GLOSI code GLOSI code- first 3 parameters  \\\n",
      "0   RC2/HR/MD/RD/HI/SS/RO/RF/NP/OS/GC/NN                      RC2/HR/MD   \n",
      "1   RC2/MR/LD/RD/VI/LS/RO/RF/NP/OS/GC/VN                      RC2/MR/LD   \n",
      "3   RC2/MR/LD/RD/HV/LS/RO/RF/NP/OS/GC/NN                      RC2/MR/LD   \n",
      "4   RC2/MR/MD/RD/VI/LS/RO/RF/NP/OS/GC/NN                      RC2/MR/MD   \n",
      "5   RC2/LR/PD/FD/NI/LS/RO/RF/NP/OS/GC/VN                      RC2/LR/PD   \n",
      "7    CM/LR/PD/FD/NI/LP/LO/RF/PR/OS/PC/NN                       CM/LR/PD   \n",
      "8   RC2/MR/MD/RD/VI/LS/RO/RF/NP/OS/GC/NN                      RC2/MR/MD   \n",
      "9   RC2/LR/PD/FD/NI/SS/RO/RF/NP/OS/GC/VN                      RC2/LR/PD   \n",
      "10  RC2/LR/MD/FD/NI/SS/RO/RF/NP/OS/GC/VN                      RC2/LR/MD   \n",
      "11  SF2/LR/MD/FD/NI/LS/RO/RF/NP/OS/GC/VN                      SF2/LR/MD   \n",
      "12  RC2/LR/PD/FD/NI/LS/RO/RF/NP/OS/GC/VN                      RC2/LR/PD   \n",
      "13  RC2/MR/LD/RD/VI/LS/RO/RF/NP/OS/GC/VN                      RC2/MR/LD   \n",
      "14  RC2/LR/LD/FD/NI/LS/RO/RF/NP/OS/GC/VN                      RC2/LR/LD   \n",
      "15  RC2/LR/LD/FD/NI/LS/RO/RF/NP/OS/GC/VN                      RC2/LR/LD   \n",
      "16  RC2/LR/PD/FD/NI/LP/LO/RF/NP/RS/GC/VN                      RC2/LR/PD   \n",
      "18  RM1/LR/PD/FD/NI/LP/LO/RF/NP/OS/GC/NN                      RM1/LR/PD   \n",
      "19   CX/LR/MD/FD/NI/LP/SO/RF/NP/OS/GC/NN                       CX/LR/MD   \n",
      "20  RC2/LR/LD/FD/NI/LS/RO/RF/NP/OS/GC/VN                      RC2/LR/LD   \n",
      "21   CM/LR/PD/FD/NI/LP/SO/RF/NP/RS/GC/NN                       CM/LR/PD   \n",
      "23  RC2/MR/MD/RD/NI/LS/SW/RF/NP/OS/PC/NN                      RC2/MR/MD   \n",
      "\n",
      "        mean       std  \n",
      "0   0.764607  0.276836  \n",
      "1   1.152667  0.302997  \n",
      "3   1.152667  0.302997  \n",
      "4   1.383200  0.302997  \n",
      "5   1.067485  0.275982  \n",
      "7   0.849689  0.303634  \n",
      "8   1.383200  0.302997  \n",
      "9   1.067485  0.275982  \n",
      "10  1.560711  0.269233  \n",
      "11  0.564000  0.360000  \n",
      "12  1.067485  0.275982  \n",
      "13  1.152667  0.302997  \n",
      "14  1.300592  0.269233  \n",
      "15  1.300592  0.269233  \n",
      "16  1.067485  0.275982  \n",
      "18  0.521758  0.396797  \n",
      "19  1.699378  0.303634  \n",
      "20  1.300592  0.269233  \n",
      "21  0.849689  0.303634  \n",
      "23  1.383200  0.302997  \n"
     ]
    }
   ],
   "source": [
    "print(df_schools)"
   ]
  },
  {
   "cell_type": "code",
   "execution_count": 57,
   "id": "d5eb3b85",
   "metadata": {},
   "outputs": [
    {
     "name": "stdout",
     "output_type": "stream",
     "text": [
      "Building codes (=component names):\n",
      "East City Central School: ['EAS01', 'EAS02', 'EAS04', 'EAS05', 'EAS06', 'EAS10', 'EAS11', 'EAS12', 'EAS13', 'EAS14', 'EAS15']\n",
      "Consolacion Elementary School: ['CON02', 'CON03', 'CON04', 'CON05', 'CON07', 'CON08', 'CON09', 'CON10', 'CON12']\n"
     ]
    }
   ],
   "source": [
    "school_names = ['East City Central School', 'Consolacion Elementary School']\n",
    "\n",
    "print(f\"Building codes (=component names):\")\n",
    "build_names = {}\n",
    "for sc in school_names:\n",
    "    df_school1 = df_schools[df_schools['School'] == sc]\n",
    "    build_names[sc] = df_school1['Build code'].tolist()\n",
    "    print(f\"{sc}: {build_names[sc]}\")"
   ]
  },
  {
   "cell_type": "code",
   "execution_count": 58,
   "id": "f24c12fd",
   "metadata": {},
   "outputs": [
    {
     "name": "stdout",
     "output_type": "stream",
     "text": [
      "   Build code      mean       std            pf\n",
      "0       EAS01  0.764607  0.276836  9.632398e-03\n",
      "1       EAS02  1.152667  0.302997  2.388121e-04\n",
      "3       EAS04  1.152667  0.302997  2.388121e-04\n",
      "4       EAS05  1.383200  0.302997  2.113317e-05\n",
      "5       EAS06  1.067485  0.275982  1.877448e-04\n",
      "7       EAS10  0.849689  0.303634  6.545247e-03\n",
      "8       EAS11  1.383200  0.302997  2.113317e-05\n",
      "9       EAS12  1.067485  0.275982  1.877448e-04\n",
      "10      EAS13  1.560711  0.269233  2.132807e-07\n",
      "11      EAS14  0.564000  0.360000  1.699366e-01\n",
      "12      EAS15  1.067485  0.275982  1.877448e-04\n",
      "13      CON02  1.152667  0.302997  2.388121e-04\n",
      "14      CON03  1.300592  0.269233  5.947142e-06\n",
      "15      CON04  1.300592  0.269233  5.947142e-06\n",
      "16      CON05  1.067485  0.275982  1.877448e-04\n",
      "18      CON07  0.521758  0.396797  2.515215e-01\n",
      "19      CON08  1.699378  0.303634  9.483184e-07\n",
      "20      CON09  1.300592  0.269233  5.947142e-06\n",
      "21      CON10  0.849689  0.303634  6.545247e-03\n",
      "23      CON12  1.383200  0.302997  2.113317e-05\n"
     ]
    }
   ],
   "source": [
    "pga_g = 0.4 # 2500-year return period\n",
    "\n",
    "df_schools['pf'] = df_schools.apply(lambda row: norm.cdf(math.log(pga_g), math.log(row['mean']), row['std']), axis=1)\n",
    "print(df_schools[['Build code', 'mean', 'std', 'pf']])"
   ]
  },
  {
   "cell_type": "markdown",
   "id": "0f696722",
   "metadata": {},
   "source": [
    "# Build MBN"
   ]
  },
  {
   "cell_type": "code",
   "execution_count": 59,
   "id": "04d2de9a",
   "metadata": {},
   "outputs": [],
   "source": [
    "varis = {}\n",
    "cpms = {}\n",
    "probs = {} # for later use in BRC algorithm\n",
    "for sc in school_names:\n",
    "    df_school1 = df_schools[df_schools['School'] == sc]\n",
    "\n",
    "    varis[sc] = {}\n",
    "    cpms[sc] = {}\n",
    "    probs[sc] = {}\n",
    "    for b in build_names[sc]:\n",
    "        n_class = df_school1[df_school1['Build code'] == b]['No. of Classrooms'].values[0]\n",
    "        n_class = int(n_class)\n",
    "\n",
    "        varis[sc][b] = variable.Variable(name = b, values = [0, n_class]) # State 0 stands for 0 capacity, 1 for full capacity\n",
    "\n",
    "        pf_b = df_school1[df_school1['Build code'] == b]['pf'].values[0]\n",
    "        pf_b = float(pf_b)\n",
    "        probs[sc][b] = {0: pf_b, 1: 1.0-pf_b}\n",
    "        cpms[sc][b] = cpm.Cpm(variables = [varis[sc][b]],\n",
    "                              no_child = 1,\n",
    "                              C = np.array([[0], [1]]),\n",
    "                              p = np.array([pf_b, 1.0-pf_b]))\n"
   ]
  },
  {
   "cell_type": "markdown",
   "id": "61fcd705",
   "metadata": {},
   "source": [
    "Add bridge failures."
   ]
  },
  {
   "cell_type": "code",
   "execution_count": 60,
   "id": "9f7cf50d",
   "metadata": {},
   "outputs": [],
   "source": [
    "varis['bridge'] = {}\n",
    "varis['bridge']['b1'] = variable.Variable(name = 'b1', values = ['f', 's']) # 0 for failure and 1 for success\n",
    "varis['bridge']['b2'] = variable.Variable(name = 'b2', values = ['f', 's']) # 0 for failure and 1 for success\n",
    "\n",
    "cpms['bridge'] = {}\n",
    "cpms['bridge']['b1'] = cpm.Cpm(variables = [varis['bridge']['b1']],\n",
    "                               no_child = 1,\n",
    "                               C = np.array([[0], [1]]),\n",
    "                               p = np.array([0.07302, 1.0-0.07302])) # failure probability of bridge 1\n",
    "\n",
    "cpms['bridge']['b2'] = cpm.Cpm(variables = [varis['bridge']['b2']],\n",
    "                               no_child = 1,\n",
    "                               C = np.array([[0], [1]]),\n",
    "                               p = np.array([0.1307, 1.0-0.1307])) # failure probability of bridge 2\n",
    "\n",
    "probs['bridge'] = {} # for later use in BRC algorithm\n",
    "probs['bridge']['b1'] = {0: 0.07302, 1: 1.0-0.07302}\n",
    "probs['bridge']['b2'] = {0: 0.1307, 1: 1.0-0.1307}"
   ]
  },
  {
   "cell_type": "code",
   "execution_count": 61,
   "id": "8a23b0e5",
   "metadata": {},
   "outputs": [],
   "source": [
    "# Now school nodes have bridge variables as parent nodes as well\n",
    "for sc in school_names:\n",
    "    varis[sc]['school'] = variable.Variable(name = 'school', values = ['f', 's']) # 0 for failure and 1 for success (it is good practice to set worse states to lower indices)\n",
    "    cpms[sc]['school'] = cpm.Cpm(variables = [varis[sc]['school']] + [varis['bridge']['b1'], varis['bridge']['b2']] + [varis[sc][b] for b in build_names[sc]],\n",
    "                                 no_child = 1)"
   ]
  },
  {
   "cell_type": "markdown",
   "id": "ef2422dc",
   "metadata": {},
   "source": [
    "# System function\n",
    "\n",
    "This part is **different from exercise 02** to account for failure of bridges.\n",
    "\n",
    "We first define the network to be used for network connectivity analysis.\n",
    "\n",
    "<p align=\"center\">\n",
    "<img src = \"data/CDO school bridge network.png\" width=\"600\">\n",
    "</p>"
   ]
  },
  {
   "cell_type": "code",
   "execution_count": 62,
   "id": "adaceee9",
   "metadata": {},
   "outputs": [],
   "source": [
    "G = nx.Graph()\n",
    "G.add_edges_from([('n1', 'n2'), ('n1', 'n6'), ('n2', 'n3'), \n",
    "                  ('n3', 'n5'), ('n4', 'n5'), ('n5', 'n6')])\n",
    "\n",
    "br_to_edge = {'b1': ('n5', 'n6'), 'b2': ('n2', 'n3')}"
   ]
  },
  {
   "cell_type": "code",
   "execution_count": 63,
   "id": "ae554bd6",
   "metadata": {},
   "outputs": [],
   "source": [
    "def count_classrooms(comps_st, school_name = 'East City Central School', thresh = 0.7):\n",
    "    \"\"\"\n",
    "    Components are the school buildings\n",
    "    Return 's' if the available number of classrooms is greater than or equal to the threshold * total number of classrooms;\n",
    "    return 'f' otherwise.\n",
    "    \"\"\"\n",
    "\n",
    "    # Check building availability first\n",
    "    total_rooms = sum(varis[school_name][b].values[1] for b in build_names[school_name])\n",
    "\n",
    "    avail_rooms = 0\n",
    "    for comp in build_names[school_name]:\n",
    "        st = comps_st[comp]\n",
    "        comp_capa = varis[school_name][comp].values[st]\n",
    "        avail_rooms += comp_capa\n",
    "\n",
    "    # Check network connectivity\n",
    "    G_ = copy.deepcopy(G) # Create a copy of the graph to avoid modifying the original one\n",
    "    for b in ['b1', 'b2']:\n",
    "        if comps_st[b] == 0:\n",
    "            G_.remove_edge(br_to_edge[b][0], br_to_edge[b][1]) \n",
    "    has_path = nx.has_path(G_, source='n1', target='n4')\n",
    "\n",
    "    if has_path and avail_rooms >= total_rooms * thresh:\n",
    "        sys_st = 's'\n",
    "\n",
    "        # Find the minimal states of components that guarantee the system state\n",
    "        min_comps_st = {}\n",
    "\n",
    "        ## Bridge first\n",
    "        path = nx.shortest_path(G_, source='n1', target='n4')\n",
    "        path_edges = list(zip(path[:-1], path[1:])) # Convert path to list of edges\n",
    "\n",
    "        for b in ['b1', 'b2']:\n",
    "            if br_to_edge[b] in path_edges or br_to_edge[b][::-1] in path_edges:\n",
    "                min_comps_st[b] = 1\n",
    "                break\n",
    "\n",
    "        ## Building next\n",
    "        all_rooms_dict = {comp: varis[school_name][comp].values[1] for comp in build_names[school_name]}\n",
    "        all_rooms_dict = {k: v for k, v in sorted(all_rooms_dict.items(), key=lambda item: item[1], reverse=True)}\n",
    "   \n",
    "        room_count = 0\n",
    "        for k, v in all_rooms_dict.items():\n",
    "            if comps_st[k] == 1:\n",
    "                room_count += v\n",
    "                min_comps_st[k] = 1\n",
    "                if room_count >= total_rooms * thresh:\n",
    "                    break\n",
    "\n",
    "    else:\n",
    "        sys_st = 'f'\n",
    "        min_comps_st = None # it's not straightforward to find the minimal 'failure' conditions\n",
    "    \n",
    "    return avail_rooms, sys_st, min_comps_st\n"
   ]
  },
  {
   "cell_type": "markdown",
   "id": "f990d0b6",
   "metadata": {},
   "source": [
    "Let's test a few examples."
   ]
  },
  {
   "cell_type": "code",
   "execution_count": 64,
   "id": "f8456850",
   "metadata": {},
   "outputs": [
    {
     "name": "stdout",
     "output_type": "stream",
     "text": [
      "Example 1: 102 rooms available, system state: s, minimal components state: {'b1': 1, 'EAS01': 1, 'EAS02': 1, 'EAS04': 1, 'EAS05': 1}, with capacities {'EAS01': 24, 'EAS02': 22, 'EAS04': 16, 'EAS05': 10}\n",
      "Example 2: 102 rooms available, system state: s, minimal components state: {'b2': 1, 'EAS01': 1, 'EAS02': 1, 'EAS04': 1, 'EAS05': 1}, with capacities {'EAS01': 24, 'EAS02': 22, 'EAS04': 16, 'EAS05': 10}\n",
      "Example 2: 78 rooms available, system state: s, minimal components state: {'b2': 1, 'EAS02': 1, 'EAS04': 1, 'EAS05': 1, 'EAS10': 1, 'EAS06': 1, 'EAS11': 1, 'EAS12': 1}, with capacities {'EAS02': 22, 'EAS04': 16, 'EAS05': 10, 'EAS10': 9, 'EAS06': 8, 'EAS11': 4, 'EAS12': 3}\n",
      "Example 4: 78 rooms available, system state: f, minimal components state: None\n",
      "Example 3: 56 rooms available, system state: f, minimal components state: None\n"
     ]
    }
   ],
   "source": [
    "# Example 1\n",
    "comps_st = {b: 1 for b in build_names['East City Central School']}  # all components are in 'success' state\n",
    "comps_st['b1'] = 1 \n",
    "comps_st['b2'] = 1 \n",
    "avail_rooms, sys_st, min_comps_st = count_classrooms(comps_st, school_name='East City Central School', thresh=0.7)\n",
    "cap_dict = {k: varis['East City Central School'][k].values[v] for k, v in min_comps_st.items() if k[0] != 'b'}  # exclude bridges from the capacity dictionary\n",
    "print(f\"Example 1: {avail_rooms} rooms available, system state: {sys_st}, minimal components state: {min_comps_st}, with capacities {cap_dict}\")\n",
    "\n",
    "# Example 2\n",
    "comps_st['b1'] = 0\n",
    "avail_rooms, sys_st, min_comps_st = count_classrooms(comps_st, school_name='East City Central School', thresh=0.7)\n",
    "cap_dict = {k: varis['East City Central School'][k].values[v] for k, v in min_comps_st.items() if k[0] != 'b'}  # exclude bridges from the capacity dictionary\n",
    "print(f\"Example 2: {avail_rooms} rooms available, system state: {sys_st}, minimal components state: {min_comps_st}, with capacities {cap_dict}\")\n",
    "\n",
    "# Example 3\n",
    "comps_st['EAS01'] = 0\n",
    "avail_rooms, sys_st, min_comps_st = count_classrooms(comps_st, school_name='East City Central School', thresh=0.7)\n",
    "cap_dict = {k: varis['East City Central School'][k].values[v] for k, v in min_comps_st.items() if k[0] != 'b'}  \n",
    "print(f\"Example 2: {avail_rooms} rooms available, system state: {sys_st}, minimal components state: {min_comps_st}, with capacities {cap_dict}\")\n",
    "\n",
    "# Example 4\n",
    "comps_st['b2'] = 0\n",
    "avail_rooms, sys_st, min_comps_st = count_classrooms(comps_st, school_name='East City Central School', thresh=0.7)\n",
    "print(f\"Example 4: {avail_rooms} rooms available, system state: {sys_st}, minimal components state: {min_comps_st}\")\n",
    "\n",
    "# Example 5\n",
    "comps_st['b1'] = 1\n",
    "comps_st['EAS02'] = 0\n",
    "avail_rooms, sys_st, min_comps_st = count_classrooms(comps_st, school_name='East City Central School', thresh=0.7)\n",
    "print(f\"Example 3: {avail_rooms} rooms available, system state: {sys_st}, minimal components state: {min_comps_st}\")"
   ]
  },
  {
   "cell_type": "markdown",
   "id": "a359d45e",
   "metadata": {},
   "source": [
    "# System reliability analysis using BRC\n",
    "\n",
    "Now we apply BRC algorithm to quantify P(School | building1, building2, ...)."
   ]
  },
  {
   "cell_type": "code",
   "execution_count": 65,
   "id": "7e8cbd6c",
   "metadata": {},
   "outputs": [
    {
     "name": "stdout",
     "output_type": "stream",
     "text": [
      "[System function runs 10]..\n",
      "The # of found non-dominated rules (f, s): 10 (2, 8)\n",
      "Probability of branchs (f, s, u): (9.6062e-03, 9.90e-01, 4.3022e-05)\n",
      "The # of branches (f, s, u), (min, avg) len of rf: 42 (9, 7, 26), (2, 2.00)\n",
      "Elapsed seconds (average per round): 3.78e-02 (3.78e-03)\n",
      "[System function runs 20]..\n",
      "The # of found non-dominated rules (f, s): 20 (7, 13)\n",
      "Probability of branchs (f, s, u): (9.6140e-03, 9.90e-01, 9.5403e-07)\n",
      "The # of branches (f, s, u), (min, avg) len of rf: 74 (25, 19, 30), (2, 2.00)\n",
      "Elapsed seconds (average per round): 1.20e-01 (6.00e-03)\n",
      "[System function runs 30]..\n",
      "The # of found non-dominated rules (f, s): 30 (8, 22)\n",
      "Probability of branchs (f, s, u): (9.6143e-03, 9.90e-01, 7.5629e-08)\n",
      "The # of branches (f, s, u), (min, avg) len of rf: 81 (14, 30, 37), (2, 2.00)\n",
      "Elapsed seconds (average per round): 2.12e-01 (7.06e-03)\n",
      "[System function runs 40]..\n",
      "The # of found non-dominated rules (f, s): 40 (10, 30)\n",
      "Probability of branchs (f, s, u): (9.6143e-03, 9.90e-01, 6.1761e-09)\n",
      "The # of branches (f, s, u), (min, avg) len of rf: 111 (24, 43, 44), (2, 2.10)\n",
      "Elapsed seconds (average per round): 4.29e-01 (1.07e-02)\n",
      "[System function runs 50]..\n",
      "The # of found non-dominated rules (f, s): 50 (13, 37)\n",
      "Probability of branchs (f, s, u): (9.6143e-03, 9.90e-01, 1.5035e-10)\n",
      "The # of branches (f, s, u), (min, avg) len of rf: 127 (30, 46, 51), (2, 2.38)\n",
      "Elapsed seconds (average per round): 6.11e-01 (1.22e-02)\n",
      "[System function runs 60]..\n",
      "The # of found non-dominated rules (f, s): 60 (18, 42)\n",
      "Probability of branchs (f, s, u): (9.6143e-03, 9.90e-01, 1.6619e-11)\n",
      "The # of branches (f, s, u), (min, avg) len of rf: 159 (53, 57, 49), (2, 2.67)\n",
      "Elapsed seconds (average per round): 9.95e-01 (1.66e-02)\n",
      "[System function runs 70]..\n",
      "The # of found non-dominated rules (f, s): 70 (20, 50)\n",
      "Probability of branchs (f, s, u): (9.6143e-03, 9.90e-01, 2.5843e-12)\n",
      "The # of branches (f, s, u), (min, avg) len of rf: 169 (46, 69, 54), (2, 2.70)\n",
      "Elapsed seconds (average per round): 1.31e+00 (1.87e-02)\n",
      "[System function runs 80]..\n",
      "The # of found non-dominated rules (f, s): 80 (22, 58)\n",
      "Probability of branchs (f, s, u): (9.6143e-03, 9.90e-01, 5.0826e-13)\n",
      "The # of branches (f, s, u), (min, avg) len of rf: 189 (54, 76, 59), (2, 2.82)\n",
      "Elapsed seconds (average per round): 1.73e+00 (2.16e-02)\n",
      "[System function runs 90]..\n",
      "The # of found non-dominated rules (f, s): 90 (24, 66)\n",
      "Probability of branchs (f, s, u): (9.6143e-03, 9.90e-01, 7.9936e-14)\n",
      "The # of branches (f, s, u), (min, avg) len of rf: 201 (54, 87, 60), (2, 2.92)\n",
      "Elapsed seconds (average per round): 2.20e+00 (2.44e-02)\n",
      "[System function runs 100]..\n",
      "The # of found non-dominated rules (f, s): 100 (29, 71)\n",
      "Probability of branchs (f, s, u): (9.6143e-03, 9.90e-01, 1.3878e-14)\n",
      "The # of branches (f, s, u), (min, avg) len of rf: 222 (74, 92, 56), (2, 3.10)\n",
      "Elapsed seconds (average per round): 2.69e+00 (2.69e-02)\n",
      "\n",
      "*Final decomposition is completed with 222 branches (originally 222 branches).\n",
      "\n",
      "***Analysis completed with f_sys runs 100: out_flag = max_rules***\n",
      "The # of found non-dominated rules (f, s): 100 (29, 71)\n",
      "Probability of branchs (f, s, u): (9.6143e-03, 9.90e-01, 1.0325e-14)\n",
      "The # of branches (f, s, u), (min, avg) len of rf: 222 (75, 93, 54), (2, 3.10)\n",
      "Elapsed seconds (average per round): 2.93e+00 (2.90e-02)\n"
     ]
    }
   ],
   "source": [
    "sc = 'East City Central School'\n",
    "#sc = 'Consolacion Elementary School'\n",
    "\n",
    "sys_fun = lambda comps_st: count_classrooms(comps_st, school_name=sc, thresh=0.7)\n",
    "brs, rules, sys_res, monitor = brc.run(probs['bridge'] | probs[sc], sys_fun)\n",
    "\n",
    "brc.save_brc_data(rules, brs, sys_res, monitor, output_folder = \"brc_data\", fname_prefix=sc, fname_suffix='bridges')"
   ]
  },
  {
   "cell_type": "markdown",
   "id": "51832d5b",
   "metadata": {},
   "source": [
    "Branches need to be converted to Cmatrix of P(School | building1, building2, ...)."
   ]
  },
  {
   "cell_type": "code",
   "execution_count": 66,
   "id": "ae480e0e",
   "metadata": {},
   "outputs": [],
   "source": [
    "C_sc = branch.get_cmat(brs, {br: varis['bridge'][br] for br in ['b1', 'b2']} | {b: varis[sc][b] for b in build_names[sc]})\n",
    "C_sc = C_sc[C_sc[:,0]!=2] # remove miscellenous unknown branches\n",
    "\n",
    "p_sc = np.ones((C_sc.shape[0],1))\n",
    "\n",
    "cpms[sc]['school'].C = C_sc\n",
    "cpms[sc]['school'].p = p_sc"
   ]
  },
  {
   "cell_type": "markdown",
   "id": "c4b41fd0",
   "metadata": {},
   "source": [
    "# Inference"
   ]
  },
  {
   "cell_type": "markdown",
   "id": "c99b91a1",
   "metadata": {},
   "source": [
    "P(School) = sum_{B_1, B_2, ...} P(School | B_1, B_2, ...) P(B_1) P(B_2) ..."
   ]
  },
  {
   "cell_type": "code",
   "execution_count": 67,
   "id": "2fcda21a",
   "metadata": {},
   "outputs": [
    {
     "name": "stdout",
     "output_type": "stream",
     "text": [
      "<CPM representing P(school | ) at 0x1ed829b0a40>\n",
      "+----------+------------+\n",
      "|   school [ ]          p |\n",
      "+==========+============+\n",
      "|        1 [ ] 0.990386   |\n",
      "+----------+------------+\n",
      "|        0 [ ] 0.00961427 |\n",
      "+----------+------------+\n"
     ]
    }
   ],
   "source": [
    "var_elim_order = ['b1','b2'] + [b for b in build_names[sc]]\n",
    "\n",
    "Msys = inference.variable_elim(cpms[sc] | cpms['bridge'], var_elim_order)\n",
    "print(Msys)"
   ]
  },
  {
   "cell_type": "markdown",
   "id": "a680fd2d",
   "metadata": {},
   "source": [
    "CPIM_n = P(X = 0 | School = 0 ) = P(X = 0, School = 0) / P(School = 0), <br>\n",
    "where X is a random variable that represents either a bridge or a building."
   ]
  },
  {
   "cell_type": "code",
   "execution_count": 68,
   "id": "8baeb996",
   "metadata": {},
   "outputs": [
    {
     "name": "stdout",
     "output_type": "stream",
     "text": [
      "CPIM for East City Central School:\n",
      "b1: 0.9931320804887883\n",
      "b2: 0.9935594269228073\n",
      "EAS01: 0.016733347298276236\n",
      "EAS02: 0.0006405813211150197\n",
      "EAS04: 0.0004798914124363885\n",
      "EAS05: 4.246744182601006e-05\n",
      "EAS06: 0.00037350546190110807\n",
      "EAS10: 0.013151734915195406\n",
      "EAS11: 2.1138411255567998e-05\n",
      "EAS12: 0.0001877553129098002\n",
      "EAS13: 2.1328896212452686e-07\n",
      "EAS14: 0.16993724087277606\n",
      "EAS15: 0.00018775202970024496\n"
     ]
    }
   ],
   "source": [
    "cpim = {}\n",
    "cpim[sc] = {}\n",
    "\n",
    "P_s0 = Msys.get_prob(['school'], [0])\n",
    "for br in ['b1', 'b2']:\n",
    "    if br == 'b1':\n",
    "        Msys_b = inference.variable_elim(cpms[sc] | cpms['bridge'], ['b2'] + [b for b in build_names[sc]])\n",
    "        P_s0_b0 = Msys_b.get_prob(['school', br], [0, 0])\n",
    "    else:\n",
    "        Msys_b = inference.variable_elim(cpms[sc] | cpms['bridge'], ['b1'] + [b for b in build_names[sc]])\n",
    "        P_s0_b0 = Msys_b.get_prob(['school', br], [0, 0])\n",
    "\n",
    "    cpim_b = P_s0_b0 / P_s0\n",
    "    cpim[sc][br] = cpim_b\n",
    "\n",
    "for b in build_names[sc]:\n",
    "    Msys_b = inference.variable_elim(cpms[sc] | cpms['bridge'], ['b1','b2'] + [b_ for b_ in build_names[sc] if b_ != b])\n",
    "    P_s0_b0 = Msys_b.get_prob(['school', b], [0, 0])\n",
    "\n",
    "    cpim_b = P_s0_b0 / P_s0\n",
    "    cpim[sc][b] = cpim_b\n",
    "\n",
    "print(f\"CPIM for {sc}:\")\n",
    "for b in cpim[sc].keys():\n",
    "    print(f\"{b}: {cpim[sc][b]}\")"
   ]
  },
  {
   "cell_type": "code",
   "execution_count": 69,
   "id": "7e799bb4",
   "metadata": {},
   "outputs": [
    {
     "data": {
      "image/png": "[encoded data removed]",
      "text/plain": [
       "<Figure size 640x480 with 3 Axes>"
      ]
     },
     "metadata": {},
     "output_type": "display_data"
    }
   ],
   "source": [
    "import matplotlib.pyplot as plt\n",
    "\n",
    "fig, ax1 = plt.subplots()\n",
    "\n",
    "keys = list(cpim[sc].keys())\n",
    "x = range(len(keys))\n",
    "bar_width = 0.25\n",
    "\n",
    "# First bar (left axis)\n",
    "ax1.bar([i - bar_width for i in x], list(cpim[sc].values()), \n",
    "        width=bar_width, color='darkred', label='CPIM')\n",
    "ax1.set_ylabel('CPIM', color='darkred')\n",
    "ax1.tick_params(axis='y', labelcolor='darkred')\n",
    "ax1.set_xticks(x)\n",
    "ax1.set_xticklabels(keys, rotation=45)\n",
    "ax1.set_xlabel('Building')\n",
    "ax1.grid()\n",
    "\n",
    "# Second bar (right axis)\n",
    "ax2 = ax1.twinx()\n",
    "ax2.bar(x, [pr[0] for pr in probs['bridge'].values()] + [pr[0] for pr in probs[sc].values()], \n",
    "        width=bar_width, color='orange', label='Failure Prob')\n",
    "ax2.set_ylabel('Failure Prob.', color='orange')\n",
    "ax2.tick_params(axis='y', labelcolor='orange')\n",
    "\n",
    "# Third bar (new axis, shifted right)\n",
    "ax3 = ax1.twinx()\n",
    "ax3.spines['right'].set_position(('axes', 1.17))  # move third axis further right\n",
    "ax3.bar([i + bar_width for i in x], [0,0]+[varis[sc][b].values[1] for b in build_names[sc]], \n",
    "        width=bar_width, color='darkgoldenrod', label='Third Metric')\n",
    "ax3.set_ylabel('Number of classrooms', color='darkgoldenrod')\n",
    "ax3.tick_params(axis='y', labelcolor='darkgoldenrod')\n",
    "\n",
    "plt.tight_layout()\n",
    "plt.show()\n"
   ]
  },
  {
   "cell_type": "markdown",
   "id": "0be72781",
   "metadata": {},
   "source": [
    "Comparing to Exercise 02, the relative importance between school buildings becomes very different (e.g. EAS01 and EAS02 are less important than EAS14)."
   ]
  }
 ],
 "metadata": {
  "kernelspec": {
   "display_name": "mbnpy",
   "language": "python",
   "name": "python3"
  },
  "language_info": {
   "codemirror_mode": {
    "name": "ipython",
    "version": 3
   },
   "file_extension": ".py",
   "mimetype": "text/x-python",
   "name": "python",
   "nbconvert_exporter": "python",
   "pygments_lexer": "ipython3",
   "version": "3.12.11"
  }
 },
 "nbformat": 4,
 "nbformat_minor": 5
}
